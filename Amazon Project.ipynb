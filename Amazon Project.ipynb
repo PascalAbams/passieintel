{
 "cells": [
  {
   "cell_type": "code",
   "execution_count": 98,
   "id": "0ea8bfb2-ddbc-447e-b2a7-6a3fcb3025ae",
   "metadata": {},
   "outputs": [],
   "source": [
    "import pandas as pd\n",
    "import numpy as np"
   ]
  },
  {
   "cell_type": "code",
   "execution_count": 100,
   "id": "8d1f9cdd-3e21-4671-bf6e-1014c876563b",
   "metadata": {},
   "outputs": [
    {
     "data": {
      "text/plain": [
       "'\\nQuestions to be answered\\n\\n- How many sales they have made with amounts more than 1000\\n- How many sales have they made that belong to the Category \"Top\" and have a Quantity of 3.\\n- The Total Sales by Category\\n- Average Amount by Category and Status\\n- Total Sales by Fulfilment and Shipment type\\n\\n'"
      ]
     },
     "execution_count": 100,
     "metadata": {},
     "output_type": "execute_result"
    }
   ],
   "source": [
    "\"\"\"\n",
    "Questions to be answered\n",
    "\n",
    "- How many sales they have made with amounts more than 1000\n",
    "- How many sales have they made that belong to the Category \"Top\" and have a Quantity of 3.\n",
    "- The Total Sales by Category\n",
    "- Average Amount by Category and Status\n",
    "- Total Sales by Fulfilment and Shipment type\n",
    "\n",
    "\"\"\""
   ]
  },
  {
   "cell_type": "code",
   "execution_count": 7,
   "id": "baa42db0-e109-4c1b-9ec9-96f05533eae5",
   "metadata": {},
   "outputs": [],
   "source": [
    "#load sales data from the excel file into a pandas DataFrame\n",
    "sales_data= pd.read_excel(\"C:/Users/Home/Desktop/sales_data.xlsx\")"
   ]
  },
  {
   "cell_type": "code",
   "execution_count": 8,
   "id": "b338a312-2d1f-4aa7-9886-35b5efc574c3",
   "metadata": {},
   "outputs": [
    {
     "data": {
      "text/html": [
       "<div>\n",
       "<style scoped>\n",
       "    .dataframe tbody tr th:only-of-type {\n",
       "        vertical-align: middle;\n",
       "    }\n",
       "\n",
       "    .dataframe tbody tr th {\n",
       "        vertical-align: top;\n",
       "    }\n",
       "\n",
       "    .dataframe thead th {\n",
       "        text-align: right;\n",
       "    }\n",
       "</style>\n",
       "<table border=\"1\" class=\"dataframe\">\n",
       "  <thead>\n",
       "    <tr style=\"text-align: right;\">\n",
       "      <th></th>\n",
       "      <th>index</th>\n",
       "      <th>Order ID</th>\n",
       "      <th>Date</th>\n",
       "      <th>Status</th>\n",
       "      <th>Fulfilment</th>\n",
       "      <th>Sales Channel</th>\n",
       "      <th>ship-service-level</th>\n",
       "      <th>Style</th>\n",
       "      <th>SKU</th>\n",
       "      <th>Category</th>\n",
       "      <th>...</th>\n",
       "      <th>Qty</th>\n",
       "      <th>currency</th>\n",
       "      <th>Amount</th>\n",
       "      <th>ship-city</th>\n",
       "      <th>ship-state</th>\n",
       "      <th>ship-postal-code</th>\n",
       "      <th>ship-country</th>\n",
       "      <th>promotion-ids</th>\n",
       "      <th>B2B</th>\n",
       "      <th>fulfilled-by</th>\n",
       "    </tr>\n",
       "  </thead>\n",
       "  <tbody>\n",
       "    <tr>\n",
       "      <th>0</th>\n",
       "      <td>0</td>\n",
       "      <td>405-8078784-5731545</td>\n",
       "      <td>04-30-22</td>\n",
       "      <td>Cancelled</td>\n",
       "      <td>Merchant</td>\n",
       "      <td>Amazon.in</td>\n",
       "      <td>Standard</td>\n",
       "      <td>SET389</td>\n",
       "      <td>SET389-KR-NP-S</td>\n",
       "      <td>Set</td>\n",
       "      <td>...</td>\n",
       "      <td>0</td>\n",
       "      <td>INR</td>\n",
       "      <td>647.62</td>\n",
       "      <td>MUMBAI</td>\n",
       "      <td>MAHARASHTRA</td>\n",
       "      <td>400081.0</td>\n",
       "      <td>IN</td>\n",
       "      <td>NaN</td>\n",
       "      <td>0.0</td>\n",
       "      <td>Easy Ship</td>\n",
       "    </tr>\n",
       "    <tr>\n",
       "      <th>1</th>\n",
       "      <td>1</td>\n",
       "      <td>171-9198151-1101146</td>\n",
       "      <td>04-30-22</td>\n",
       "      <td>Shipped - Delivered to Buyer</td>\n",
       "      <td>Merchant</td>\n",
       "      <td>Amazon.in</td>\n",
       "      <td>Standard</td>\n",
       "      <td>JNE3781</td>\n",
       "      <td>JNE3781-KR-XXXL</td>\n",
       "      <td>Blouse</td>\n",
       "      <td>...</td>\n",
       "      <td>1</td>\n",
       "      <td>INR</td>\n",
       "      <td>406.00</td>\n",
       "      <td>BENGALURU</td>\n",
       "      <td>KARNATAKA</td>\n",
       "      <td>560085.0</td>\n",
       "      <td>IN</td>\n",
       "      <td>Amazon PLCC Free-Financing Universal Merchant ...</td>\n",
       "      <td>0.0</td>\n",
       "      <td>Easy Ship</td>\n",
       "    </tr>\n",
       "    <tr>\n",
       "      <th>2</th>\n",
       "      <td>2</td>\n",
       "      <td>404-0687676-7273146</td>\n",
       "      <td>04-30-22</td>\n",
       "      <td>Shipped</td>\n",
       "      <td>Amazon</td>\n",
       "      <td>Amazon.in</td>\n",
       "      <td>Expedited</td>\n",
       "      <td>JNE3371</td>\n",
       "      <td>JNE3371-KR-XL</td>\n",
       "      <td>Blouse</td>\n",
       "      <td>...</td>\n",
       "      <td>1</td>\n",
       "      <td>INR</td>\n",
       "      <td>329.00</td>\n",
       "      <td>NAVI MUMBAI</td>\n",
       "      <td>MAHARASHTRA</td>\n",
       "      <td>410210.0</td>\n",
       "      <td>IN</td>\n",
       "      <td>IN Core Free Shipping 2015/04/08 23-48-5-108</td>\n",
       "      <td>1.0</td>\n",
       "      <td>NaN</td>\n",
       "    </tr>\n",
       "    <tr>\n",
       "      <th>3</th>\n",
       "      <td>3</td>\n",
       "      <td>403-9615377-8133951</td>\n",
       "      <td>04-30-22</td>\n",
       "      <td>Cancelled</td>\n",
       "      <td>Merchant</td>\n",
       "      <td>Amazon.in</td>\n",
       "      <td>Standard</td>\n",
       "      <td>J0341</td>\n",
       "      <td>J0341-DR-L</td>\n",
       "      <td>Dress</td>\n",
       "      <td>...</td>\n",
       "      <td>0</td>\n",
       "      <td>INR</td>\n",
       "      <td>753.33</td>\n",
       "      <td>PUDUCHERRY</td>\n",
       "      <td>PUDUCHERRY</td>\n",
       "      <td>605008.0</td>\n",
       "      <td>IN</td>\n",
       "      <td>NaN</td>\n",
       "      <td>0.0</td>\n",
       "      <td>Easy Ship</td>\n",
       "    </tr>\n",
       "    <tr>\n",
       "      <th>4</th>\n",
       "      <td>4</td>\n",
       "      <td>407-1069790-7240320</td>\n",
       "      <td>04-30-22</td>\n",
       "      <td>Shipped</td>\n",
       "      <td>Amazon</td>\n",
       "      <td>Amazon.in</td>\n",
       "      <td>Expedited</td>\n",
       "      <td>JNE3671</td>\n",
       "      <td>JNE3671-TU-XXXL</td>\n",
       "      <td>Top</td>\n",
       "      <td>...</td>\n",
       "      <td>1</td>\n",
       "      <td>INR</td>\n",
       "      <td>574.00</td>\n",
       "      <td>CHENNAI</td>\n",
       "      <td>TAMIL NADU</td>\n",
       "      <td>600073.0</td>\n",
       "      <td>IN</td>\n",
       "      <td>NaN</td>\n",
       "      <td>0.0</td>\n",
       "      <td>NaN</td>\n",
       "    </tr>\n",
       "  </tbody>\n",
       "</table>\n",
       "<p>5 rows × 23 columns</p>\n",
       "</div>"
      ],
      "text/plain": [
       "   index             Order ID      Date                        Status  \\\n",
       "0      0  405-8078784-5731545  04-30-22                     Cancelled   \n",
       "1      1  171-9198151-1101146  04-30-22  Shipped - Delivered to Buyer   \n",
       "2      2  404-0687676-7273146  04-30-22                       Shipped   \n",
       "3      3  403-9615377-8133951  04-30-22                     Cancelled   \n",
       "4      4  407-1069790-7240320  04-30-22                       Shipped   \n",
       "\n",
       "  Fulfilment Sales Channel  ship-service-level    Style              SKU  \\\n",
       "0   Merchant      Amazon.in           Standard   SET389   SET389-KR-NP-S   \n",
       "1   Merchant      Amazon.in           Standard  JNE3781  JNE3781-KR-XXXL   \n",
       "2     Amazon      Amazon.in          Expedited  JNE3371    JNE3371-KR-XL   \n",
       "3   Merchant      Amazon.in           Standard    J0341       J0341-DR-L   \n",
       "4     Amazon      Amazon.in          Expedited  JNE3671  JNE3671-TU-XXXL   \n",
       "\n",
       "  Category  ... Qty currency  Amount    ship-city   ship-state  \\\n",
       "0      Set  ...   0      INR  647.62       MUMBAI  MAHARASHTRA   \n",
       "1   Blouse  ...   1      INR  406.00    BENGALURU    KARNATAKA   \n",
       "2   Blouse  ...   1      INR  329.00  NAVI MUMBAI  MAHARASHTRA   \n",
       "3    Dress  ...   0      INR  753.33   PUDUCHERRY   PUDUCHERRY   \n",
       "4      Top  ...   1      INR  574.00      CHENNAI   TAMIL NADU   \n",
       "\n",
       "   ship-postal-code ship-country  \\\n",
       "0          400081.0           IN   \n",
       "1          560085.0           IN   \n",
       "2          410210.0           IN   \n",
       "3          605008.0           IN   \n",
       "4          600073.0           IN   \n",
       "\n",
       "                                       promotion-ids  B2B fulfilled-by  \n",
       "0                                                NaN  0.0    Easy Ship  \n",
       "1  Amazon PLCC Free-Financing Universal Merchant ...  0.0    Easy Ship  \n",
       "2       IN Core Free Shipping 2015/04/08 23-48-5-108  1.0          NaN  \n",
       "3                                                NaN  0.0    Easy Ship  \n",
       "4                                                NaN  0.0          NaN  \n",
       "\n",
       "[5 rows x 23 columns]"
      ]
     },
     "execution_count": 8,
     "metadata": {},
     "output_type": "execute_result"
    }
   ],
   "source": [
    "sales_data.head()"
   ]
  },
  {
   "cell_type": "code",
   "execution_count": 11,
   "id": "b0f60c26-98f9-4d6b-8aaf-de150a75465d",
   "metadata": {},
   "outputs": [
    {
     "data": {
      "text/plain": [
       "index                   int64\n",
       "Order ID               object\n",
       "Date                   object\n",
       "Status                 object\n",
       "Fulfilment             object\n",
       "Sales Channel          object\n",
       "ship-service-level     object\n",
       "Style                  object\n",
       "SKU                    object\n",
       "Category               object\n",
       "Size                   object\n",
       "ASIN                   object\n",
       "Courier Status         object\n",
       "Qty                     int64\n",
       "currency               object\n",
       "Amount                float64\n",
       "ship-city              object\n",
       "ship-state             object\n",
       "ship-postal-code      float64\n",
       "ship-country           object\n",
       "promotion-ids          object\n",
       "B2B                   float64\n",
       "fulfilled-by           object\n",
       "dtype: object"
      ]
     },
     "execution_count": 11,
     "metadata": {},
     "output_type": "execute_result"
    }
   ],
   "source": [
    "sales_data.dtypes"
   ]
  },
  {
   "cell_type": "code",
   "execution_count": 13,
   "id": "9244d624-044e-4fe2-8836-1b9afcf60b46",
   "metadata": {},
   "outputs": [
    {
     "name": "stdout",
     "output_type": "stream",
     "text": [
      "128975\n"
     ]
    }
   ],
   "source": [
    "# Check if DataFrame is empty\n",
    "print(len(sales_data))"
   ]
  },
  {
   "cell_type": "code",
   "execution_count": 15,
   "id": "f694f1a0-b30b-4875-b038-2445d9da5673",
   "metadata": {},
   "outputs": [
    {
     "name": "stdout",
     "output_type": "stream",
     "text": [
      "<class 'pandas.core.frame.DataFrame'>\n",
      "RangeIndex: 128975 entries, 0 to 128974\n",
      "Data columns (total 23 columns):\n",
      " #   Column              Non-Null Count   Dtype  \n",
      "---  ------              --------------   -----  \n",
      " 0   index               128975 non-null  int64  \n",
      " 1   Order ID            128975 non-null  object \n",
      " 2   Date                128975 non-null  object \n",
      " 3   Status              128975 non-null  object \n",
      " 4   Fulfilment          128975 non-null  object \n",
      " 5   Sales Channel       128975 non-null  object \n",
      " 6   ship-service-level  128975 non-null  object \n",
      " 7   Style               128975 non-null  object \n",
      " 8   SKU                 128975 non-null  object \n",
      " 9   Category            128975 non-null  object \n",
      " 10  Size                128975 non-null  object \n",
      " 11  ASIN                128975 non-null  object \n",
      " 12  Courier Status      122103 non-null  object \n",
      " 13  Qty                 128975 non-null  int64  \n",
      " 14  currency            121180 non-null  object \n",
      " 15  Amount              121180 non-null  float64\n",
      " 16  ship-city           128942 non-null  object \n",
      " 17  ship-state          128935 non-null  object \n",
      " 18  ship-postal-code    128935 non-null  float64\n",
      " 19  ship-country        128935 non-null  object \n",
      " 20  promotion-ids       79815 non-null   object \n",
      " 21  B2B                 128968 non-null  float64\n",
      " 22  fulfilled-by        39276 non-null   object \n",
      "dtypes: float64(3), int64(2), object(18)\n",
      "memory usage: 22.6+ MB\n"
     ]
    }
   ],
   "source": [
    "#get summary of sales data\n",
    "sales_data.info()"
   ]
  },
  {
   "cell_type": "code",
   "execution_count": 17,
   "id": "55fa514d-7eb1-4af7-a316-8e02d2eb1a4a",
   "metadata": {},
   "outputs": [
    {
     "data": {
      "text/html": [
       "<div>\n",
       "<style scoped>\n",
       "    .dataframe tbody tr th:only-of-type {\n",
       "        vertical-align: middle;\n",
       "    }\n",
       "\n",
       "    .dataframe tbody tr th {\n",
       "        vertical-align: top;\n",
       "    }\n",
       "\n",
       "    .dataframe thead th {\n",
       "        text-align: right;\n",
       "    }\n",
       "</style>\n",
       "<table border=\"1\" class=\"dataframe\">\n",
       "  <thead>\n",
       "    <tr style=\"text-align: right;\">\n",
       "      <th></th>\n",
       "      <th>index</th>\n",
       "      <th>Qty</th>\n",
       "      <th>Amount</th>\n",
       "      <th>ship-postal-code</th>\n",
       "      <th>B2B</th>\n",
       "    </tr>\n",
       "  </thead>\n",
       "  <tbody>\n",
       "    <tr>\n",
       "      <th>count</th>\n",
       "      <td>128975.000000</td>\n",
       "      <td>128975.000000</td>\n",
       "      <td>121180.000000</td>\n",
       "      <td>128935.000000</td>\n",
       "      <td>128968.000000</td>\n",
       "    </tr>\n",
       "    <tr>\n",
       "      <th>mean</th>\n",
       "      <td>64487.000000</td>\n",
       "      <td>0.904431</td>\n",
       "      <td>648.561465</td>\n",
       "      <td>463963.108256</td>\n",
       "      <td>0.006754</td>\n",
       "    </tr>\n",
       "    <tr>\n",
       "      <th>std</th>\n",
       "      <td>37232.019822</td>\n",
       "      <td>0.313354</td>\n",
       "      <td>281.211687</td>\n",
       "      <td>191475.865632</td>\n",
       "      <td>0.081903</td>\n",
       "    </tr>\n",
       "    <tr>\n",
       "      <th>min</th>\n",
       "      <td>0.000000</td>\n",
       "      <td>0.000000</td>\n",
       "      <td>0.000000</td>\n",
       "      <td>110001.000000</td>\n",
       "      <td>0.000000</td>\n",
       "    </tr>\n",
       "    <tr>\n",
       "      <th>25%</th>\n",
       "      <td>32243.500000</td>\n",
       "      <td>1.000000</td>\n",
       "      <td>449.000000</td>\n",
       "      <td>382421.000000</td>\n",
       "      <td>0.000000</td>\n",
       "    </tr>\n",
       "    <tr>\n",
       "      <th>50%</th>\n",
       "      <td>64487.000000</td>\n",
       "      <td>1.000000</td>\n",
       "      <td>605.000000</td>\n",
       "      <td>500033.000000</td>\n",
       "      <td>0.000000</td>\n",
       "    </tr>\n",
       "    <tr>\n",
       "      <th>75%</th>\n",
       "      <td>96730.500000</td>\n",
       "      <td>1.000000</td>\n",
       "      <td>788.000000</td>\n",
       "      <td>600024.000000</td>\n",
       "      <td>0.000000</td>\n",
       "    </tr>\n",
       "    <tr>\n",
       "      <th>max</th>\n",
       "      <td>128974.000000</td>\n",
       "      <td>15.000000</td>\n",
       "      <td>5584.000000</td>\n",
       "      <td>989898.000000</td>\n",
       "      <td>1.000000</td>\n",
       "    </tr>\n",
       "  </tbody>\n",
       "</table>\n",
       "</div>"
      ],
      "text/plain": [
       "               index            Qty         Amount  ship-postal-code  \\\n",
       "count  128975.000000  128975.000000  121180.000000     128935.000000   \n",
       "mean    64487.000000       0.904431     648.561465     463963.108256   \n",
       "std     37232.019822       0.313354     281.211687     191475.865632   \n",
       "min         0.000000       0.000000       0.000000     110001.000000   \n",
       "25%     32243.500000       1.000000     449.000000     382421.000000   \n",
       "50%     64487.000000       1.000000     605.000000     500033.000000   \n",
       "75%     96730.500000       1.000000     788.000000     600024.000000   \n",
       "max    128974.000000      15.000000    5584.000000     989898.000000   \n",
       "\n",
       "                 B2B  \n",
       "count  128968.000000  \n",
       "mean        0.006754  \n",
       "std         0.081903  \n",
       "min         0.000000  \n",
       "25%         0.000000  \n",
       "50%         0.000000  \n",
       "75%         0.000000  \n",
       "max         1.000000  "
      ]
     },
     "execution_count": 17,
     "metadata": {},
     "output_type": "execute_result"
    }
   ],
   "source": [
    "sales_data.describe()"
   ]
  },
  {
   "cell_type": "code",
   "execution_count": 21,
   "id": "06bdcfda-fe3d-4fbe-b56f-ed50ff893667",
   "metadata": {},
   "outputs": [
    {
     "data": {
      "text/plain": [
       "Index(['index', 'Order ID', 'Date', 'Status', 'Fulfilment', 'Sales Channel ',\n",
       "       'ship-service-level', 'Style', 'SKU', 'Category', 'Size', 'ASIN',\n",
       "       'Courier Status', 'Qty', 'currency', 'Amount', 'ship-city',\n",
       "       'ship-state', 'ship-postal-code', 'ship-country', 'promotion-ids',\n",
       "       'B2B', 'fulfilled-by'],\n",
       "      dtype='object')"
      ]
     },
     "execution_count": 21,
     "metadata": {},
     "output_type": "execute_result"
    }
   ],
   "source": [
    "sales_data.columns"
   ]
  },
  {
   "cell_type": "code",
   "execution_count": null,
   "id": "37032703-47ea-4a61-bd20-0c8b8d9dad75",
   "metadata": {},
   "outputs": [],
   "source": [
    "#cleaning the data"
   ]
  },
  {
   "cell_type": "code",
   "execution_count": 25,
   "id": "a5b198fe-09a3-4067-a447-8405e47146bd",
   "metadata": {},
   "outputs": [
    {
     "data": {
      "text/plain": [
       "index                     0\n",
       "Order ID                  0\n",
       "Date                      0\n",
       "Status                    0\n",
       "Fulfilment                0\n",
       "Sales Channel             0\n",
       "ship-service-level        0\n",
       "Style                     0\n",
       "SKU                       0\n",
       "Category                  0\n",
       "Size                      0\n",
       "ASIN                      0\n",
       "Courier Status         6872\n",
       "Qty                       0\n",
       "currency               7795\n",
       "Amount                 7795\n",
       "ship-city                33\n",
       "ship-state               40\n",
       "ship-postal-code         40\n",
       "ship-country             40\n",
       "promotion-ids         49160\n",
       "B2B                       7\n",
       "fulfilled-by          89699\n",
       "dtype: int64"
      ]
     },
     "execution_count": 25,
     "metadata": {},
     "output_type": "execute_result"
    }
   ],
   "source": [
    "#check for missing values in our sales data\n",
    "sales_data.isnull().sum()"
   ]
  },
  {
   "cell_type": "code",
   "execution_count": 29,
   "id": "94a6380d-bd59-49d9-8bff-b622f1ed56d4",
   "metadata": {},
   "outputs": [],
   "source": [
    "#drop any rows that has any missing/nan values\n",
    "sales_data_dropped=sales_data.dropna()"
   ]
  },
  {
   "cell_type": "code",
   "execution_count": 31,
   "id": "46e09aa5-3364-45c5-a1af-dcb9fb541870",
   "metadata": {},
   "outputs": [],
   "source": [
    "#drop rows with missing amounts based on the amount column\n",
    "sales_data_cleaned = sales_data.dropna(subset=['Amount'])"
   ]
  },
  {
   "cell_type": "code",
   "execution_count": 35,
   "id": "4739b956-d52a-4bd0-8750-a5c3efce0c7f",
   "metadata": {},
   "outputs": [
    {
     "data": {
      "text/plain": [
       "index                     0\n",
       "Order ID                  0\n",
       "Date                      0\n",
       "Status                    0\n",
       "Fulfilment                0\n",
       "Sales Channel             0\n",
       "ship-service-level        0\n",
       "Style                     0\n",
       "SKU                       0\n",
       "Category                  0\n",
       "Size                      0\n",
       "ASIN                      0\n",
       "Courier Status         5136\n",
       "Qty                       0\n",
       "currency                  0\n",
       "Amount                    0\n",
       "ship-city                31\n",
       "ship-state               38\n",
       "ship-postal-code         38\n",
       "ship-country             38\n",
       "promotion-ids         41705\n",
       "B2B                       7\n",
       "fulfilled-by          83640\n",
       "dtype: int64"
      ]
     },
     "execution_count": 35,
     "metadata": {},
     "output_type": "execute_result"
    }
   ],
   "source": [
    "#check for missing values in our sales data cleaned\n",
    "sales_data_cleaned.isnull().sum()"
   ]
  },
  {
   "cell_type": "code",
   "execution_count": 39,
   "id": "e801e693-fdfe-4ed3-b773-75d66a9a547e",
   "metadata": {},
   "outputs": [
    {
     "name": "stdout",
     "output_type": "stream",
     "text": [
      "         index             Order ID      Date                        Status  \\\n",
      "32          32  404-9632124-1107550  04-30-22  Shipped - Delivered to Buyer   \n",
      "43          43  408-3478480-0881162  04-30-22                       Shipped   \n",
      "46          46  408-3917043-5314763  04-30-22                       Shipped   \n",
      "52          52  408-7138000-9728362  04-30-22                       Shipped   \n",
      "69          69  405-6480932-8759528  04-30-22                       Shipped   \n",
      "...        ...                  ...       ...                           ...   \n",
      "128938  128938  403-6231612-3153120  05-31-22                       Shipped   \n",
      "128954  128954  403-8464685-9792368  05-31-22                       Shipped   \n",
      "128957  128957  402-8261465-0622733  05-31-22                       Shipped   \n",
      "128966  128966  406-9812666-2474761  05-31-22                       Shipped   \n",
      "128973  128973  402-6184140-0545956  05-31-22                       Shipped   \n",
      "\n",
      "       Fulfilment Sales Channel  ship-service-level   Style              SKU  \\\n",
      "32       Merchant      Amazon.in           Standard   J0011      J0011-LCD-M   \n",
      "43         Amazon      Amazon.in          Expedited  SET360   SET360-KR-NP-M   \n",
      "46         Amazon      Amazon.in          Expedited   J0230      J0230-SKD-L   \n",
      "52         Amazon      Amazon.in          Expedited  SET282   SET282-KR-PP-M   \n",
      "69         Amazon      Amazon.in          Expedited   J0381   J0381-SKD-XXXL   \n",
      "...           ...            ...                ...     ...              ...   \n",
      "128938     Amazon      Amazon.in          Expedited   J0002      J0002-SKD-S   \n",
      "128954     Amazon      Amazon.in          Expedited   J0376      J0376-SKD-S   \n",
      "128957     Amazon      Amazon.in          Expedited   J0230      J0230-SKD-M   \n",
      "128966     Amazon      Amazon.in          Expedited  SET224  SET224-KR-NP-XS   \n",
      "128973     Amazon      Amazon.in          Expedited   J0012     J0012-SKD-XS   \n",
      "\n",
      "       Category  ... Qty currency  Amount       ship-city      ship-state  \\\n",
      "32          Set  ...   1      INR  1233.0   VISAKHAPATNAM  ANDHRA PRADESH   \n",
      "43          Set  ...   1      INR  1126.0         LUCKNOW   UTTAR PRADESH   \n",
      "46          Set  ...   1      INR  1146.0          ONGOLE  ANDHRA PRADESH   \n",
      "52          Set  ...   1      INR  1033.0         dimapur        NAGALAND   \n",
      "69          Set  ...   1      INR  1146.0        VIJAPURA       KARNATAKA   \n",
      "...         ...  ...  ..      ...     ...             ...             ...   \n",
      "128938      Set  ...   1      INR  1186.0       GORAKHPUR   UTTAR PRADESH   \n",
      "128954      Set  ...   1      INR  1063.0       NEW DELHI           DELHI   \n",
      "128957      Set  ...   1      INR  1349.0          RANCHI       JHARKHAND   \n",
      "128966      Set  ...   1      INR  1132.0  CHENNAI 600042      TAMIL NADU   \n",
      "128973      Set  ...   1      INR  1199.0           Halol         Gujarat   \n",
      "\n",
      "        ship-postal-code ship-country  \\\n",
      "32              530016.0           IN   \n",
      "43              226017.0           IN   \n",
      "46              523001.0           IN   \n",
      "52              797112.0           IN   \n",
      "69              586201.0           IN   \n",
      "...                  ...          ...   \n",
      "128938          273006.0           IN   \n",
      "128954          110070.0           IN   \n",
      "128957          834002.0           IN   \n",
      "128966          600042.0           IN   \n",
      "128973          389350.0           IN   \n",
      "\n",
      "                                            promotion-ids  B2B fulfilled-by  \n",
      "32      Amazon PLCC Free-Financing Universal Merchant ...  0.0    Easy Ship  \n",
      "43           IN Core Free Shipping 2015/04/08 23-48-5-108  0.0          NaN  \n",
      "46                                                    NaN  0.0          NaN  \n",
      "52           IN Core Free Shipping 2015/04/08 23-48-5-108  0.0          NaN  \n",
      "69           IN Core Free Shipping 2015/04/08 23-48-5-108  0.0          NaN  \n",
      "...                                                   ...  ...          ...  \n",
      "128938                                                NaN  0.0          NaN  \n",
      "128954                                                NaN  0.0          NaN  \n",
      "128957       IN Core Free Shipping 2015/04/08 23-48-5-108  0.0          NaN  \n",
      "128966                                                NaN  0.0          NaN  \n",
      "128973       IN Core Free Shipping 2015/04/08 23-48-5-108  0.0          NaN  \n",
      "\n",
      "[13332 rows x 23 columns]\n"
     ]
    }
   ],
   "source": [
    "#select a subset of our data where the Amount > 1000\n",
    "high_amount_data = sales_data[sales_data['Amount'] > 1000]\n",
    "\n",
    "print(high_amount_data)\n"
   ]
  },
  {
   "cell_type": "code",
   "execution_count": 41,
   "id": "5e1be635-f782-4a5e-901b-7f4555ce3d7a",
   "metadata": {},
   "outputs": [
    {
     "name": "stdout",
     "output_type": "stream",
     "text": [
      "         index             Order ID      Date                        Status  \\\n",
      "4            4  407-1069790-7240320  04-30-22                       Shipped   \n",
      "47          47  408-9281152-6213100  04-30-22                       Shipped   \n",
      "54          54  402-7944191-1869101  04-30-22                       Shipped   \n",
      "67          67  404-4535078-5241919  04-30-22                       Shipped   \n",
      "109        109  403-7266170-1163500  04-30-22  Shipped - Delivered to Buyer   \n",
      "...        ...                  ...       ...                           ...   \n",
      "128923  128923  402-1698543-5164342  05-31-22                       Shipped   \n",
      "128941  128941  403-3035549-4142738  05-31-22                       Shipped   \n",
      "128942  128942  403-3035549-4142738  05-31-22                       Shipped   \n",
      "128949  128949  403-7050981-8813953  05-31-22                       Shipped   \n",
      "128965  128965  408-5154281-4593912  05-31-22                     Cancelled   \n",
      "\n",
      "       Fulfilment Sales Channel  ship-service-level    Style              SKU  \\\n",
      "4          Amazon      Amazon.in          Expedited  JNE3671  JNE3671-TU-XXXL   \n",
      "47         Amazon      Amazon.in          Expedited  JNE3744     JNE3744-TU-S   \n",
      "54         Amazon      Amazon.in          Expedited    J0301       J0301-TP-L   \n",
      "67         Amazon      Amazon.in          Expedited  JNE3645   JNE3645-TP-N-L   \n",
      "109      Merchant      Amazon.in           Standard  JNE3648   JNE3648-TP-N-M   \n",
      "...           ...            ...                ...      ...              ...   \n",
      "128923     Amazon      Amazon.in          Expedited    J0418      J0418-TP-XL   \n",
      "128941     Amazon      Amazon.in          Expedited    J0118     J0118-TP-XXL   \n",
      "128942     Amazon      Amazon.in          Expedited    J0301     J0301-TP-XXL   \n",
      "128949     Amazon      Amazon.in          Expedited    J0113       J0113-TP-M   \n",
      "128965     Amazon      Amazon.in          Expedited    J0119    J0119-TP-XXXL   \n",
      "\n",
      "       Category  ... Qty currency Amount              ship-city  \\\n",
      "4           Top  ...   1      INR  574.0                CHENNAI   \n",
      "47          Top  ...   1      INR  665.0           SECUNDERABAD   \n",
      "54          Top  ...   1      INR  493.0              BENGALURU   \n",
      "67          Top  ...   1      INR  432.0                   PUNE   \n",
      "109         Top  ...   1      INR  518.0                 MUMBAI   \n",
      "...         ...  ...  ..      ...    ...                    ...   \n",
      "128923      Top  ...   1      INR  749.0              HYDERABAD   \n",
      "128941      Top  ...   1      INR  529.0              BENGALURU   \n",
      "128942      Top  ...   1      INR  518.0              BENGALURU   \n",
      "128949      Top  ...   1      INR  574.0                CHENNAI   \n",
      "128965      Top  ...   1      INR  574.0  Prayagraj (ALLAHABAD)   \n",
      "\n",
      "           ship-state  ship-postal-code ship-country  \\\n",
      "4          TAMIL NADU          600073.0           IN   \n",
      "47          TELANGANA          500017.0           IN   \n",
      "54          KARNATAKA          560076.0           IN   \n",
      "67        MAHARASHTRA          411014.0           IN   \n",
      "109       MAHARASHTRA          400076.0           IN   \n",
      "...               ...               ...          ...   \n",
      "128923      TELANGANA          500084.0           IN   \n",
      "128941      KARNATAKA          560102.0           IN   \n",
      "128942      KARNATAKA          560102.0           IN   \n",
      "128949     TAMIL NADU          600021.0           IN   \n",
      "128965  UTTAR PRADESH          211007.0           IN   \n",
      "\n",
      "                                            promotion-ids  B2B fulfilled-by  \n",
      "4                                                     NaN  0.0          NaN  \n",
      "47           IN Core Free Shipping 2015/04/08 23-48-5-108  0.0          NaN  \n",
      "54           IN Core Free Shipping 2015/04/08 23-48-5-108  0.0          NaN  \n",
      "67           IN Core Free Shipping 2015/04/08 23-48-5-108  0.0          NaN  \n",
      "109     Amazon PLCC Free-Financing Universal Merchant ...  0.0    Easy Ship  \n",
      "...                                                   ...  ...          ...  \n",
      "128923  IN Core Free Shipping 2015/04/08 23-48-5-108,V...  0.0          NaN  \n",
      "128941                                                NaN  0.0          NaN  \n",
      "128942                                                NaN  0.0          NaN  \n",
      "128949                                                NaN  0.0          NaN  \n",
      "128965                                                NaN  0.0          NaN  \n",
      "\n",
      "[10622 rows x 23 columns]\n"
     ]
    }
   ],
   "source": [
    "#select a subset of our data based on the Category column\n",
    "category_data = sales_data[sales_data['Category']=='Top']\n",
    "\n",
    "print(category_data)"
   ]
  },
  {
   "cell_type": "code",
   "execution_count": 47,
   "id": "0b047594-067a-4551-9b0c-5376e5f1fb4b",
   "metadata": {},
   "outputs": [
    {
     "name": "stdout",
     "output_type": "stream",
     "text": [
      "       index             Order ID                 Date  \\\n",
      "57091  57091  405-3036482-4663513             05-25-22   \n",
      "79902  79902  405-4225331-3338755  2005-07-22 00:00:00   \n",
      "79903  79903  405-4225331-3338755  2005-07-22 00:00:00   \n",
      "\n",
      "                             Status Fulfilment Sales Channel   \\\n",
      "57091                       Shipped     Amazon      Amazon.in   \n",
      "79902  Shipped - Returned to Seller   Merchant      Amazon.in   \n",
      "79903  Shipped - Returned to Seller   Merchant      Amazon.in   \n",
      "\n",
      "      ship-service-level    Style           SKU Category  ... Qty currency  \\\n",
      "57091          Expedited    J0119  J0119-TP-XXL      Top  ...   3      INR   \n",
      "79902           Standard  JNE3671  JNE3671-TU-M      Top  ...   3      INR   \n",
      "79903           Standard  JNE3673  JNE3673-TU-M      Top  ...   3      INR   \n",
      "\n",
      "       Amount     ship-city   ship-state  ship-postal-code ship-country  \\\n",
      "57091  1722.0      DOMBIVLI  MAHARASHTRA          421201.0           IN   \n",
      "79902  1764.0  MAHENDRAGARH      HARYANA          123029.0           IN   \n",
      "79903  1797.0  MAHENDRAGARH      HARYANA          123029.0           IN   \n",
      "\n",
      "                                           promotion-ids  B2B fulfilled-by  \n",
      "57091       IN Core Free Shipping 2015/04/08 23-48-5-108  0.0          NaN  \n",
      "79902  Amazon PLCC Free-Financing Universal Merchant ...  0.0    Easy Ship  \n",
      "79903  Amazon PLCC Free-Financing Universal Merchant ...  0.0    Easy Ship  \n",
      "\n",
      "[3 rows x 23 columns]\n"
     ]
    }
   ],
   "source": [
    "#select a subset of data based on multiple conditions\n",
    "filtered_data = sales_data[(sales_data['Category'] == 'Top') & (sales_data['Qty'] == 3)]\n",
    "\n",
    "print(filtered_data)"
   ]
  },
  {
   "cell_type": "code",
   "execution_count": 49,
   "id": "65a63a60-34d6-4fdb-9d04-2fefe3440e3d",
   "metadata": {},
   "outputs": [],
   "source": [
    "#aggregrating data"
   ]
  },
  {
   "cell_type": "code",
   "execution_count": 57,
   "id": "704268c7-1d32-4cdf-8635-06089592dba8",
   "metadata": {},
   "outputs": [
    {
     "name": "stdout",
     "output_type": "stream",
     "text": [
      "Category\n",
      "Blouse    21757954.88\n",
      "Bottom      150667.98\n",
      "Dress     12131224.11\n",
      "Scarf          915.00\n",
      "Set       39204124.03\n",
      "Top        5347792.30\n",
      "Name: Amount, dtype: float64\n"
     ]
    }
   ],
   "source": [
    "#total sales by category\n",
    "category_totals = sales_data.groupby('Category')['Amount'].sum()\n",
    "\n",
    "print(category_totals)"
   ]
  },
  {
   "cell_type": "code",
   "execution_count": 65,
   "id": "a3d91860-e720-4eda-809d-b02c12e642a3",
   "metadata": {},
   "outputs": [
    {
     "name": "stdout",
     "output_type": "stream",
     "text": [
      "  Category       Amount\n",
      "4      Set  39204124.03\n",
      "0   Blouse  21757954.88\n",
      "2    Dress  12131224.11\n",
      "5      Top   5347792.30\n",
      "1   Bottom    150667.98\n",
      "3    Scarf       915.00\n"
     ]
    }
   ],
   "source": [
    "category_totals = sales_data.groupby('Category', as_index = False)['Amount'].sum()\n",
    "category_totals = category_totals.sort_values('Amount', ascending = False)\n",
    "\n",
    "print(category_totals)"
   ]
  },
  {
   "cell_type": "code",
   "execution_count": 75,
   "id": "74d3d1ed-78b9-46f5-8505-c43df2458e8a",
   "metadata": {},
   "outputs": [
    {
     "name": "stdout",
     "output_type": "stream",
     "text": [
      "   Category Fulfilment      Amount\n",
      "7       Set     Amazon  838.042180\n",
      "8       Set   Merchant  822.466512\n",
      "4     Dress     Amazon  776.077009\n",
      "5     Dress   Merchant  740.499730\n",
      "9       Top     Amazon  536.449448\n",
      "10      Top   Merchant  493.678577\n",
      "0    Blouse     Amazon  459.493705\n",
      "1    Blouse   Merchant  451.327641\n",
      "2    Bottom     Amazon  365.080508\n",
      "3    Bottom   Merchant  350.592283\n",
      "6     Scarf     Amazon  305.000000\n"
     ]
    }
   ],
   "source": [
    "#calculate the average Amount by Category and Fulfilment\n",
    "fulfilment_averages = sales_data.groupby(['Category', 'Fulfilment'], as_index = False)['Amount'].mean()\n",
    "fulfilment_averages = fulfilment_averages.sort_values('Amount', ascending = False)\n",
    "\n",
    "print(fulfilment_averages)"
   ]
  },
  {
   "cell_type": "code",
   "execution_count": 79,
   "id": "4213db2c-b817-4520-b2ad-9f2a212e4d50",
   "metadata": {},
   "outputs": [
    {
     "name": "stdout",
     "output_type": "stream",
     "text": [
      "   Category                         Status       Amount\n",
      "24    Dress              Shipped - Damaged  1136.000000\n",
      "39      Set     Shipped - Out for Delivery   908.105263\n",
      "29    Dress    Shipped - Rejected by Buyer   899.000000\n",
      "43      Set  Shipped - Returning to Seller   875.835616\n",
      "40      Set            Shipped - Picked Up   846.322660\n",
      "34      Set                        Pending   837.629482\n",
      "36      Set                        Shipped   836.530584\n",
      "37      Set   Shipped - Delivered to Buyer   827.042759\n",
      "33      Set                      Cancelled   826.970953\n",
      "42      Set   Shipped - Returned to Seller   824.475817\n",
      "35      Set  Pending - Waiting for Pick Up   791.120370\n",
      "31    Dress  Shipped - Returning to Seller   782.642857\n",
      "23    Dress                        Shipped   774.604673\n",
      "22    Dress  Pending - Waiting for Pick Up   767.531646\n",
      "27    Dress     Shipped - Out for Delivery   765.000000\n",
      "20    Dress                      Cancelled   752.765319\n",
      "41      Set    Shipped - Rejected by Buyer   748.666667\n",
      "21    Dress                        Pending   744.818182\n",
      "25    Dress   Shipped - Delivered to Buyer   744.078590\n",
      "30    Dress   Shipped - Returned to Seller   730.042424\n",
      "28    Dress            Shipped - Picked Up   724.206349\n",
      "54      Top  Shipped - Returning to Seller   577.000000\n",
      "8    Blouse    Shipped - Rejected by Buyer   544.500000\n",
      "46      Top                        Pending   543.327273\n",
      "45      Top                      Cancelled   535.254885\n",
      "48      Top                        Shipped   534.187807\n",
      "47      Top  Pending - Waiting for Pick Up   530.210526\n",
      "6    Blouse     Shipped - Out for Delivery   521.800000\n",
      "19   Bottom  Shipped - Returning to Seller   518.000000\n",
      "53      Top   Shipped - Returned to Seller   511.699187\n",
      "50      Top     Shipped - Out for Delivery   503.600000\n",
      "38      Set      Shipped - Lost in Transit   499.500000\n",
      "5    Blouse      Shipped - Lost in Transit   499.000000\n",
      "49      Top   Shipped - Delivered to Buyer   494.132292\n",
      "2    Blouse  Pending - Waiting for Pick Up   484.739726\n",
      "7    Blouse            Shipped - Picked Up   484.421405\n",
      "51      Top            Shipped - Picked Up   479.086957\n",
      "10   Blouse  Shipped - Returning to Seller   475.314286\n",
      "1    Blouse                        Pending   465.624000\n",
      "3    Blouse                        Shipped   459.515805\n",
      "9    Blouse   Shipped - Returned to Seller   458.880330\n",
      "4    Blouse   Shipped - Delivered to Buyer   452.251719\n",
      "0    Blouse                      Cancelled   448.172337\n",
      "52      Top    Shipped - Rejected by Buyer   407.500000\n",
      "12   Bottom                      Cancelled   371.097073\n",
      "15   Bottom                        Shipped   368.262443\n",
      "16   Bottom   Shipped - Delivered to Buyer   349.748201\n",
      "32    Scarf                        Shipped   305.000000\n",
      "14   Bottom  Pending - Waiting for Pick Up   301.000000\n",
      "18   Bottom   Shipped - Returned to Seller   292.200000\n",
      "17   Bottom            Shipped - Picked Up   287.100000\n",
      "13   Bottom                        Pending     0.000000\n",
      "26    Dress      Shipped - Lost in Transit     0.000000\n",
      "11   Blouse                       Shipping          NaN\n",
      "44      Set                       Shipping          NaN\n",
      "55      Top                       Shipping          NaN\n"
     ]
    }
   ],
   "source": [
    "#calculate the average Amount by Category and Status\n",
    "status_averages = sales_data.groupby(['Category', 'Status'], as_index = False)['Amount'].mean()\n",
    "status_averages = status_averages.sort_values('Amount', ascending = False)\n",
    "\n",
    "print(status_averages)"
   ]
  },
  {
   "cell_type": "code",
   "execution_count": 86,
   "id": "13b73794-95e7-4558-a31b-2a6d9cf9cc62",
   "metadata": {},
   "outputs": [
    {
     "name": "stdout",
     "output_type": "stream",
     "text": [
      "  Courier Status Fulfilment      Amount\n",
      "1        Shipped     Amazon  50331934.0\n",
      "2        Shipped   Merchant  20726730.0\n",
      "3      Unshipped     Amazon   3990217.0\n",
      "4      Unshipped   Merchant    353625.0\n",
      "0      Cancelled     Amazon         0.0\n"
     ]
    }
   ],
   "source": [
    "#calculate the total sales by shipment and Fulfilment\n",
    "total_sales_shipandfulfil = sales_data.groupby(['Courier Status', 'Fulfilment'], as_index = False)['Amount'].sum()\n",
    "total_sales_shipandfulfil = total_sales_shipandfulfil.sort_values('Amount', ascending = False)\n",
    "\n",
    "print(total_sales_shipandfulfil)"
   ]
  },
  {
   "cell_type": "code",
   "execution_count": 90,
   "id": "7246e4ea-bb8a-4d5a-8823-48932ad2c69f",
   "metadata": {},
   "outputs": [
    {
     "name": "stdout",
     "output_type": "stream",
     "text": [
      "    Shipment Fulfilment      Amount\n",
      "1    Shipped     Amazon  50331934.0\n",
      "2    Shipped   Merchant  20726730.0\n",
      "3  Unshipped     Amazon   3990217.0\n",
      "4  Unshipped   Merchant    353625.0\n",
      "0  Cancelled     Amazon         0.0\n"
     ]
    }
   ],
   "source": [
    "#renaming columns in a dataframe\n",
    "total_sales_shipandfulfil.rename(columns={'Courier Status': 'Shipment'}, inplace=True)\n",
    "\n",
    "print(total_sales_shipandfulfil)"
   ]
  },
  {
   "cell_type": "code",
   "execution_count": 92,
   "id": "40ba3fc9-ce4e-46a7-83b4-f0e766ef379f",
   "metadata": {},
   "outputs": [],
   "source": [
    "#exporting the data\n",
    "\n",
    "status_averages.to_excel('average_sales_by_category_and_status.xlsx',index=False)"
   ]
  },
  {
   "cell_type": "code",
   "execution_count": 94,
   "id": "b75b2ba0-6aa7-41d1-99ff-1d2e19a4b873",
   "metadata": {},
   "outputs": [],
   "source": [
    "total_sales_shipandfulfil.to_excel('total_sales_by_ship_and_fulfil.xlsx', index=False)"
   ]
  },
  {
   "cell_type": "code",
   "execution_count": 96,
   "id": "3ceabdd1-460f-418b-a880-b90b0cef56e2",
   "metadata": {},
   "outputs": [
    {
     "name": "stdout",
     "output_type": "stream",
     "text": [
      "C:\\Users\\Home\n"
     ]
    }
   ],
   "source": [
    "import os\n",
    "print(os.getcwd())  # Prints the current working directory"
   ]
  },
  {
   "cell_type": "code",
   "execution_count": null,
   "id": "affc928a-00b7-4ef1-8ea4-db67b0a93ee6",
   "metadata": {},
   "outputs": [],
   "source": []
  }
 ],
 "metadata": {
  "kernelspec": {
   "display_name": "Python 3 (ipykernel)",
   "language": "python",
   "name": "python3"
  },
  "language_info": {
   "codemirror_mode": {
    "name": "ipython",
    "version": 3
   },
   "file_extension": ".py",
   "mimetype": "text/x-python",
   "name": "python",
   "nbconvert_exporter": "python",
   "pygments_lexer": "ipython3",
   "version": "3.12.7"
  }
 },
 "nbformat": 4,
 "nbformat_minor": 5
}
